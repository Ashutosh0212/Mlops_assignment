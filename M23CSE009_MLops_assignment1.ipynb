{
  "nbformat": 4,
  "nbformat_minor": 0,
  "metadata": {
    "colab": {
      "provenance": []
    },
    "kernelspec": {
      "name": "python3",
      "display_name": "Python 3"
    },
    "language_info": {
      "name": "python"
    }
  },
  "cells": [
    {
      "cell_type": "markdown",
      "source": [
        "## MLOps Assignment 1"
      ],
      "metadata": {
        "id": "LlIGlcIiywyq"
      }
    },
    {
      "cell_type": "markdown",
      "source": [
        "Q1. Print multiplication table from 1 to 10"
      ],
      "metadata": {
        "id": "i3GplYoCqa89"
      }
    },
    {
      "cell_type": "code",
      "source": [
        "#write here and run the cell\n",
        "keys = [i for i in range(1,11)]\n",
        "print(\"    \", end=\"\")\n",
        "for i in keys:\n",
        "  print(f\"{i:4}\",end =\"\")\n",
        "print()\n",
        "print(\"-\"*(len(keys)+1)*4)\n",
        "# print()\n",
        "for j in range(1,11):\n",
        "  print(f\"{j:2} |\", end=\"\")\n",
        "  for i in keys:\n",
        "    print(f\"{j *i:4}\",end=\"\")\n",
        "  print()"
      ],
      "metadata": {
        "id": "Vfm5RBY0qbIs",
        "colab": {
          "base_uri": "https://localhost:8080/"
        },
        "outputId": "7b353777-f286-4e3c-f7f3-8cab4d99a9cf"
      },
      "execution_count": null,
      "outputs": [
        {
          "output_type": "stream",
          "name": "stdout",
          "text": [
            "       1   2   3   4   5   6   7   8   9  10\n",
            "--------------------------------------------\n",
            " 1 |   1   2   3   4   5   6   7   8   9  10\n",
            " 2 |   2   4   6   8  10  12  14  16  18  20\n",
            " 3 |   3   6   9  12  15  18  21  24  27  30\n",
            " 4 |   4   8  12  16  20  24  28  32  36  40\n",
            " 5 |   5  10  15  20  25  30  35  40  45  50\n",
            " 6 |   6  12  18  24  30  36  42  48  54  60\n",
            " 7 |   7  14  21  28  35  42  49  56  63  70\n",
            " 8 |   8  16  24  32  40  48  56  64  72  80\n",
            " 9 |   9  18  27  36  45  54  63  72  81  90\n",
            "10 |  10  20  30  40  50  60  70  80  90 100\n"
          ]
        }
      ]
    },
    {
      "cell_type": "markdown",
      "source": [
        "Q2. Given two lists, l1 and l2, write a program to create a third list l3 by picking an odd-index element from the list l1 and even index elements from the list l2."
      ],
      "metadata": {
        "id": "kCxjfhGtiMFb"
      }
    },
    {
      "cell_type": "code",
      "source": [
        "#write here and run the cell\n",
        "l1 = [i for i in range(0,10)]\n",
        "l2 = [i for i in range(10,20)]\n",
        "l3 = []\n",
        "k = 0\n",
        "while(k < (max(len(l1),len(l2)))):\n",
        "  if k%2==1 and k<len(l1):\n",
        "    l3.append(l1[k])\n",
        "  elif k%2 == 0 and k<len(l2):\n",
        "    l3.append(l2[k])\n",
        "  k+=1\n",
        "print(l3)"
      ],
      "metadata": {
        "id": "r1lkQPN8iNSc",
        "colab": {
          "base_uri": "https://localhost:8080/"
        },
        "outputId": "145e3f9d-1240-4ad6-fa26-1f075c1980ea"
      },
      "execution_count": null,
      "outputs": [
        {
          "output_type": "stream",
          "name": "stdout",
          "text": [
            "[10, 1, 12, 3, 14, 5, 16, 7, 18, 9]\n"
          ]
        }
      ]
    },
    {
      "cell_type": "markdown",
      "source": [
        "Q3. Print a this pattern(*)\n",
        "\n",
        "    * * * * * * * *\n",
        "      * * * * * * *\n",
        "        * * * * * *\n",
        "          * * * * *\n",
        "            * * * *\n",
        "              * * *\n",
        "                * *\n",
        "                  *"
      ],
      "metadata": {
        "id": "GBb0FgtIq4YA"
      }
    },
    {
      "cell_type": "code",
      "source": [
        "#write here and run the cell\n",
        "space = 0\n",
        "star = 8\n",
        "while(star > 0):\n",
        "  print(\"  \"*space,end=\"\")\n",
        "  print(\"* \"*star,end =\"\")\n",
        "  print()\n",
        "  star -= 1\n",
        "  space += 1"
      ],
      "metadata": {
        "id": "rfbGzuA3rcGs",
        "colab": {
          "base_uri": "https://localhost:8080/"
        },
        "outputId": "ed2ce212-71da-4f87-c544-196faeacf441"
      },
      "execution_count": null,
      "outputs": [
        {
          "output_type": "stream",
          "name": "stdout",
          "text": [
            "* * * * * * * * \n",
            "  * * * * * * * \n",
            "    * * * * * * \n",
            "      * * * * * \n",
            "        * * * * \n",
            "          * * * \n",
            "            * * \n",
            "              * \n"
          ]
        }
      ]
    },
    {
      "cell_type": "markdown",
      "source": [
        "Q4. Create a function named `exponent(base, exp)` that returns an integer representing the result of raising `base` to the power of `exp`.\n",
        "`exp` is >0.\n",
        "\n",
        "base = 5\n",
        "exponent = 4\n",
        "\n",
        "5 raises to the power of 4 is: 625\n",
        "i.e. (5 *5 * 5 *5 = 625)"
      ],
      "metadata": {
        "id": "WIblh-z6s9me"
      }
    },
    {
      "cell_type": "code",
      "source": [
        "#write here and run the cell\n",
        "def exponent(base, exp):\n",
        "  if exp ==0:return 1\n",
        "  my_sum = base\n",
        "  for i in range(exp-1):\n",
        "    my_sum *= base\n",
        "  return my_sum\n",
        "print(exponent(5,4))"
      ],
      "metadata": {
        "id": "6-KKDQNWs8eQ",
        "colab": {
          "base_uri": "https://localhost:8080/"
        },
        "outputId": "1a44f30c-66b1-4046-8817-6547088065bd"
      },
      "execution_count": null,
      "outputs": [
        {
          "output_type": "stream",
          "name": "stdout",
          "text": [
            "625\n"
          ]
        }
      ]
    },
    {
      "cell_type": "markdown",
      "source": [
        "Q5. Create a file named test.txt and insert the following content into it.\n",
        "\n",
        "\n",
        "\n",
        "\n",
        "\n",
        "    line1\n",
        "    line2\n",
        "    line3\n",
        "    line4\n",
        "    line5\n",
        "    line6\n",
        "    line7\n",
        "\n",
        "Write a program which write all content of a given file (test.txt) into a new file by skipping line number 5 (line5)"
      ],
      "metadata": {
        "id": "_QUrD8h6t6PN"
      }
    },
    {
      "cell_type": "code",
      "source": [
        "# Creating the file test.txt file\n",
        "\n",
        "content = [f\"line{i}\\n\" for i in range(1,8)]\n",
        "with open(\"test.txt\", \"w\") as file:\n",
        "    file.write(\"\".join(content))"
      ],
      "metadata": {
        "id": "8hkHppIF1rXy"
      },
      "execution_count": null,
      "outputs": []
    },
    {
      "cell_type": "code",
      "source": [
        "#Writing a program which write all content of a given file (test.txt) into a new file by skipping line number 5 (line5)\n",
        "with open(\"test.txt\", \"r\") as file:\n",
        "  content = (file.read().split(\"\\n\"))[:-1]\n",
        "with open(\"test2.txt\",\"w\") as file:\n",
        "  content  = content[:5] + content[6:]\n",
        "  file.write(\"\\n\".join(content))\n",
        "print(content)"
      ],
      "metadata": {
        "id": "I2KF1QHKrq-s",
        "colab": {
          "base_uri": "https://localhost:8080/"
        },
        "outputId": "dfbc7fb1-5220-4358-adc1-566bc5e8e346"
      },
      "execution_count": null,
      "outputs": [
        {
          "output_type": "stream",
          "name": "stdout",
          "text": [
            "['line1', 'line2', 'line3', 'line4', 'line5', 'line7']\n"
          ]
        }
      ]
    },
    {
      "cell_type": "markdown",
      "source": [
        "Q6. Write a program which receives three names from the user in a single input() function call.\n",
        "\n",
        "    Input: IIT JODHPUR RAJASTHAN\n",
        "\n",
        "    Output:\n",
        "    IIT\n",
        "    JODHPUR\n",
        "    RAJASTHAN"
      ],
      "metadata": {
        "id": "6cdAt0ONvMVI"
      }
    },
    {
      "cell_type": "code",
      "source": [
        "#write here and run the cell\n",
        "name_list = input(\"Input: \").split()\n",
        "\n",
        "print()\n",
        "while(name_list[0] !=\"-1\"):\n",
        "  if len(name_list) ==3:\n",
        "    print(\"Output:\")\n",
        "    for i in name_list:\n",
        "      print(i)\n",
        "    break\n",
        "  else:\n",
        "    print(\" Please enter 3 names\\nTo Quit please press -1\")\n",
        "    name_list = input(\"Input: \").split()\n",
        "print(\"thank you !!\")"
      ],
      "metadata": {
        "id": "Mo0wyeB6vJJm",
        "colab": {
          "base_uri": "https://localhost:8080/"
        },
        "outputId": "139f5526-ce19-4478-8dea-6bc587737307"
      },
      "execution_count": null,
      "outputs": [
        {
          "output_type": "stream",
          "name": "stdout",
          "text": [
            "Input: as\n",
            "\n",
            " Please enter 3 names\n",
            "To Quit please press -1\n",
            "Input: -1\n",
            "thank you !!\n"
          ]
        }
      ]
    },
    {
      "cell_type": "markdown",
      "source": [
        "Q7. Write a program to define a function called show_employee() with the following requirements:\n",
        "\n",
        "*   It should take the employee's name and salary as input and display both.\n",
        "*   If the salary is not provided in the function call, assign a default value of 9000 to it.\n",
        "\n",
        "After passing:\n",
        "\n",
        "showEmployee(\"Bill Gates\", 12000)\n",
        "\n",
        "showEmployee(\"Elon Musk\")\n",
        "\n",
        "It should print:\n",
        "\n",
        "Name: Bill Gates salary: 12000\n",
        "\n",
        "Name: Elon Musk salary: 9000"
      ],
      "metadata": {
        "id": "jwSKpPcYv_De"
      }
    },
    {
      "cell_type": "code",
      "source": [
        "#write here and run the cell\n",
        "def showEmployee(name: str, val = 9000):\n",
        "    print(f\"Name: {name}, salary: {val}\")\n",
        "\n",
        "showEmployee(\"Bill Gates\", 12000)\n",
        "\n",
        "showEmployee(\"Elon Musk\")\n"
      ],
      "metadata": {
        "id": "yyzhkF1Lv94j",
        "colab": {
          "base_uri": "https://localhost:8080/"
        },
        "outputId": "40024c06-6afc-455e-f058-1bbb925bf610"
      },
      "execution_count": 75,
      "outputs": [
        {
          "output_type": "stream",
          "name": "stdout",
          "text": [
            "Name: Bill Gates, salary: 12000\n",
            "Name: Elon Musk, salary: 9000\n"
          ]
        }
      ]
    },
    {
      "cell_type": "markdown",
      "source": [
        "Q8. Write a program to identify words that contain both letters and digits from a given input string.\n",
        "\n",
        "    Given str1 = \"Harry25 is Gryffindor Wizard50 and cursed\"\n",
        "\n",
        "    Output:\n",
        "    Harry25\n",
        "    Wizard50"
      ],
      "metadata": {
        "id": "BAtCQH3pxXWV"
      }
    },
    {
      "cell_type": "code",
      "source": [
        "#write here and run the cell\n",
        "import re\n",
        "\n",
        "def words_letters(input_string):\n",
        "    pattern = r'\\b(?=\\w*\\d)(?=\\w*[a-zA-Z])\\w+\\b'\n",
        "\n",
        "    matches = re.findall(pattern, input_string)\n",
        "\n",
        "    return matches\n",
        "\n",
        "input_string = \"Harry25 is Gryffindor Wizard50 and cursed\"\n",
        "result = words_letters(input_string)\n",
        "print(\"Given String: \", input_string)\n",
        "print(\"Output:\")\n",
        "for i in result:\n",
        "  print(i)"
      ],
      "metadata": {
        "id": "bqbyxYdqvJHY",
        "colab": {
          "base_uri": "https://localhost:8080/"
        },
        "outputId": "fcbd3a46-9ebc-4fb4-e54b-30638468b7df"
      },
      "execution_count": 79,
      "outputs": [
        {
          "output_type": "stream",
          "name": "stdout",
          "text": [
            "Given String:  Harry25 is Gryffindor Wizard50 and cursed\n",
            "Output:\n",
            "Harry25\n",
            "Wizard50\n"
          ]
        }
      ]
    },
    {
      "cell_type": "markdown",
      "source": [
        "Q9. Write a program to substitute each special character in the given string with the symbol #.\n",
        "\n",
        "    Given: str1 = '/*Modi is @Politician & Melony!!'\n",
        "\n",
        "    Output: ##Modi is #Politician # Melony##"
      ],
      "metadata": {
        "id": "Ev6TIw7oyGzJ"
      }
    },
    {
      "cell_type": "code",
      "source": [
        "#write here and run the cell\n",
        "#write here and run the cell\n",
        "import re\n",
        "\n",
        "def words_letters(input_string):\n",
        "    pattern = r'[^a-zA-Z0-9 ]'\n",
        "    result = re.sub(pattern, '#', input_string)\n",
        "\n",
        "    return result\n",
        "\n",
        "\n",
        "input_string = \"/*Modi is @Politician & Melony!!\"\n",
        "result = words_letters(input_string)\n",
        "print(\"Given String: \", input_string)\n",
        "print(\"Output: \", result)\n"
      ],
      "metadata": {
        "id": "Hbg92hJtvJE7",
        "colab": {
          "base_uri": "https://localhost:8080/"
        },
        "outputId": "35ce6b00-4d3b-491d-c7d8-0581d73b7194"
      },
      "execution_count": 83,
      "outputs": [
        {
          "output_type": "stream",
          "name": "stdout",
          "text": [
            "Given String:  /*Modi is @Politician & Melony!!\n",
            "Output:  ##Modi is #Politician # Melony##\n"
          ]
        }
      ]
    },
    {
      "cell_type": "markdown",
      "source": [
        "Q10. Construct a Python set that displays elements from both lists as pairs.\n",
        "\n",
        "    Given:\n",
        "\n",
        "    first_list = [2, 3, 4, 5, 6, 7, 8]\n",
        "    second_list = [4, 9, 16, 25, 36, 49, 64]\n",
        "    Output: Result is  {(6, 36), (8, 64), (4, 16), (5, 25), (3, 9), (7, 49), (2, 4)}"
      ],
      "metadata": {
        "id": "L9zg8k_XyoMz"
      }
    },
    {
      "cell_type": "code",
      "source": [
        "#write here and run the cell\n",
        "first_list = [2, 3, 4, 5, 6, 7, 8]\n",
        "second_list = [4, 9, 16, 25, 36, 49, 64]\n",
        "result_set = {(x, x**2) for x in first_list if x**2 in second_list}\n",
        "print(\"Result is\", result_set)"
      ],
      "metadata": {
        "id": "aSBw6V0OvJCS",
        "colab": {
          "base_uri": "https://localhost:8080/"
        },
        "outputId": "aa50dcc7-a8b6-414e-c164-5d4a7ef4e01a"
      },
      "execution_count": 84,
      "outputs": [
        {
          "output_type": "stream",
          "name": "stdout",
          "text": [
            "Result is {(7, 49), (2, 4), (4, 16), (8, 64), (6, 36), (3, 9), (5, 25)}\n"
          ]
        }
      ]
    },
    {
      "cell_type": "markdown",
      "source": [
        "Q11. Define two set A and B consisting of 5 elements. Now print the element after performing\n",
        "\n",
        "\n",
        "      1.   A-B\n",
        "      2.   B-A\n",
        "      3.   A∩B\n",
        "      4.   A∪B\n",
        "\n",
        "\n"
      ],
      "metadata": {
        "id": "JHa0SMOozZo9"
      }
    },
    {
      "cell_type": "code",
      "source": [
        "#write here and run the cell\n",
        "\n",
        "# Define the sets\n",
        "A = {1, 2, 3, 4, 5}\n",
        "B = {4, 5, 6, 7, 8}\n",
        "\n",
        "# Perform set operations\n",
        "A_minus_B = A - B\n",
        "B_minus_A = B - A\n",
        "A_and_B = A & B\n",
        "A_union_B = A | B\n",
        "\n",
        "# Print the results\n",
        "print(\"A - B:\", A_minus_B)\n",
        "print(\"B - A:\", B_minus_A)\n",
        "print(\"A ∩ B:\", A_and_B)\n",
        "print(\"A ∪ B:\", A_union_B)\n"
      ],
      "metadata": {
        "id": "r9vL1bpHzZGg",
        "colab": {
          "base_uri": "https://localhost:8080/"
        },
        "outputId": "62977503-6ee8-4654-84d9-864054f375bf"
      },
      "execution_count": 86,
      "outputs": [
        {
          "output_type": "stream",
          "name": "stdout",
          "text": [
            "A - B: {1, 2, 3}\n",
            "B - A: {8, 6, 7}\n",
            "A ∩ B: {4, 5}\n",
            "A ∪ B: {1, 2, 3, 4, 5, 6, 7, 8}\n"
          ]
        }
      ]
    },
    {
      "cell_type": "markdown",
      "source": [
        "## Object Oriented Programming Exercise 1:\n",
        "\n",
        "[Classes and Objects in Python](https://pynative.com/python-classes-and-objects/)\n",
        "\n",
        "[Instance variables in Python](https://pynative.com/python-instance-variables/)"
      ],
      "metadata": {
        "id": "UFjTtL_i00dz"
      }
    },
    {
      "cell_type": "markdown",
      "source": [
        "Q12. Create a Vehicle class with max_speed and mileage instance attributes."
      ],
      "metadata": {
        "id": "-PQELvq41z5B"
      }
    },
    {
      "cell_type": "code",
      "source": [
        "#write here and run the cell\n",
        "class Vehicle:\n",
        "    def __init__(self, max_speed, mileage):\n",
        "        self.max_speed = max_speed\n",
        "        self.mileage = mileage\n",
        "\n",
        "    def __str__(self):\n",
        "        return f\"Vehicle with max speed of {self.max_speed} km/h and mileage of {self.mileage} km\"\n",
        "\n",
        "vehicle1 = Vehicle(110, 1000)\n",
        "print(vehicle1)\n"
      ],
      "metadata": {
        "id": "Wa16l5-C0z3Z",
        "colab": {
          "base_uri": "https://localhost:8080/"
        },
        "outputId": "c993a7ad-ae53-42ec-c133-1938b282f3a1"
      },
      "execution_count": 87,
      "outputs": [
        {
          "output_type": "stream",
          "name": "stdout",
          "text": [
            "Vehicle with max speed of 110 km/h and mileage of 1000 km\n"
          ]
        }
      ]
    },
    {
      "cell_type": "markdown",
      "source": [
        "Q13. Create a child class Bus that will inherit all of the variables and methods of the Vehicle class.\n",
        "\n",
        "Create a Bus object that will inherit all of the variables and methods of the parent Vehicle class and display it."
      ],
      "metadata": {
        "id": "-Japqg35177L"
      }
    },
    {
      "cell_type": "code",
      "source": [
        "#write here and run the cell\n",
        "class Bus(Vehicle):\n",
        "    def __init__(self, max_speed, mileage, seating_capacity):\n",
        "        super().__init__(max_speed, mileage)\n",
        "        self.seating_capacity = seating_capacity\n",
        "\n",
        "    def __str__(self):\n",
        "        return f\"Bus with max speed of {self.max_speed} km/h and mileage of {self.mileage} km, and seating capacity of {self.seating_capacity}\"\n",
        "\n",
        "bus = Bus(120, 50000, 50)\n",
        "\n",
        "print(bus)"
      ],
      "metadata": {
        "id": "nUvpX3qR2Upg",
        "colab": {
          "base_uri": "https://localhost:8080/"
        },
        "outputId": "3ea50330-406b-4477-a186-5541b0e785d9"
      },
      "execution_count": 90,
      "outputs": [
        {
          "output_type": "stream",
          "name": "stdout",
          "text": [
            "Bus with max speed of 120 km/h and mileage of 50000 km, and seating capacity of 50\n"
          ]
        }
      ]
    },
    {
      "cell_type": "markdown",
      "source": [
        "### Class Inheritance\n",
        "\n",
        "Q14. Create a Bus class that inherits from the Vehicle class. Give the capacity argument of Bus.seating_capacity() a default value of 50.\n",
        "\n",
        "Use the following code for your parent Vehicle class.\n",
        "\n",
        "    class Vehicle:\n",
        "      def __init__(self, name, max_speed, mileage):\n",
        "          self.name = name\n",
        "          self.max_speed = max_speed\n",
        "          self.mileage = mileage\n",
        "\n",
        "      def seating_capacity(self, capacity):\n",
        "          return f\"The seating capacity of a {self.name} is {capacity} passengers\"\n",
        "\n",
        "Expected Output:\n",
        "\n",
        "    The seating capacity of a bus is 50 passengers"
      ],
      "metadata": {
        "id": "fPFfg2Hh2VBe"
      }
    },
    {
      "cell_type": "code",
      "source": [
        "#write here and run the cell\n",
        "# Define the parent class Vehicle\n",
        "class Vehicle:\n",
        "    def __init__(self, name, max_speed, mileage):\n",
        "        self.name = name\n",
        "        self.max_speed = max_speed\n",
        "        self.mileage = mileage\n",
        "\n",
        "    def seating_capacity(self, capacity):\n",
        "        return f\"The seating capacity of a {self.name} is {capacity} passengers\"\n",
        "\n",
        "class Bus(Vehicle):\n",
        "    def __init__(self, name, max_speed, mileage, capacity=50):\n",
        "        super().__init__(name, max_speed, mileage)\n",
        "        self.capacity = capacity\n",
        "\n",
        "    def seating_capacity(self):\n",
        "        return f\"The seating capacity of a {self.name} is {self.capacity} passengers\"\n",
        "\n",
        "bus = Bus(name=\"bus\", max_speed=120, mileage=50000)\n",
        "\n",
        "print(bus.seating_capacity())\n"
      ],
      "metadata": {
        "id": "TKalMy1B2_Ix",
        "colab": {
          "base_uri": "https://localhost:8080/"
        },
        "outputId": "9a13ceaa-66c4-4ded-918c-ef73528ea341"
      },
      "execution_count": 93,
      "outputs": [
        {
          "output_type": "stream",
          "name": "stdout",
          "text": [
            "The seating capacity of a bus is 50 passengers\n"
          ]
        }
      ]
    },
    {
      "cell_type": "markdown",
      "source": [
        "Q15. Create a Bus subclass that inherits from the Vehicle class. By default, the fare for any vehicle is calculated as the seating capacity multiplied by 100. For instances of the Bus class, an additional 10% maintenance fee should be applied to the total fare. Therefore, the final fare for a bus instance will be the sum of the total fare plus an additional 10% of that total fare.\n",
        "\n",
        "Note: The bus has a seating capacity of 50, so the final fare amount should be 5500. You need to override the fare() method from the Vehicle class in the Bus class.\n",
        "\n",
        "Use the provided code for the parent Vehicle class. You should access the parent class within a method of the child class.\n",
        "\n",
        "    class Vehicle:\n",
        "      def __init__(self, name, mileage, capacity):\n",
        "        self.name = name\n",
        "        self.mileage = mileage\n",
        "        self.capacity = capacity\n",
        "\n",
        "      def fare(self):\n",
        "        return self.capacity * 100\n",
        "\n",
        "    class Bus(Vehicle):\n",
        "        pass\n",
        "        School_bus = Bus(\"School Volvo\", 12, 50)\n",
        "        print(\"Total Bus fare is:\", School_bus.fare())\n",
        "\n",
        "    Expected Output:\n",
        "\n",
        "    Total Bus fare is: 5500.0"
      ],
      "metadata": {
        "id": "kenJ766m2_jc"
      }
    },
    {
      "cell_type": "code",
      "source": [
        "#write here and run the cell\n",
        "class Vehicle:\n",
        "    def __init__(self, name, mileage, capacity):\n",
        "        self.name = name\n",
        "        self.mileage = mileage\n",
        "        self.capacity = capacity\n",
        "\n",
        "    def fare(self):\n",
        "        return self.capacity * 100\n",
        "\n",
        "class Bus(Vehicle):\n",
        "    def fare(self):\n",
        "\n",
        "        base_fare = super().fare()\n",
        "\n",
        "        maintenance_fee = base_fare * 0.10\n",
        "\n",
        "        total_fare = base_fare + maintenance_fee\n",
        "        return total_fare\n",
        "\n",
        "school_bus = Bus(\"School Volvo\", 12, 50)\n",
        "\n",
        "print(\"Total Bus fare is:\", school_bus.fare())\n"
      ],
      "metadata": {
        "id": "jY3Z5SsY_iaQ"
      },
      "execution_count": null,
      "outputs": []
    },
    {
      "cell_type": "markdown",
      "source": [
        "### Python JSON Exercise\n",
        "Refer: [Python JSON tutorials](https://pynative.com/python/json/)"
      ],
      "metadata": {
        "id": "3wMvLEkk_nWE"
      }
    },
    {
      "cell_type": "markdown",
      "source": [
        "Q16. Convert the following dictionary into JSON format\n",
        "\n",
        "    data = {\"key1\" : \"value1\", \"key2\" : \"value2\"}\n",
        "    data = {\"key1\" : \"value1\", \"key2\" : \"value2\"}"
      ],
      "metadata": {
        "id": "zVIiuI0PAcuT"
      }
    },
    {
      "cell_type": "code",
      "source": [
        "#write here and run the cell\n",
        "data = {\"key1\" : \"value1\", \"key2\" : \"value2\"}\n",
        "data = {\"key1\" : \"value1\", \"key2\" : \"value2\"}\n",
        "print(data)"
      ],
      "metadata": {
        "id": "Z5M47OYS_mhA",
        "colab": {
          "base_uri": "https://localhost:8080/"
        },
        "outputId": "3ec5d0c5-6981-47d6-f9c1-d3eb9ffa7da4"
      },
      "execution_count": 95,
      "outputs": [
        {
          "output_type": "stream",
          "name": "stdout",
          "text": [
            "{'key1': 'value1', 'key2': 'value2'}\n"
          ]
        }
      ]
    },
    {
      "cell_type": "markdown",
      "source": [
        "Q17. Sort JSON keys in and write them into a file\n",
        "\n",
        "    sampleJson = {\"id\" : 1, \"name\" : \"value2\", \"age\" : 29}\n",
        "\n",
        "    {\n",
        "          \"age\": 29,\n",
        "          \"id\": 1,\n",
        "          \"name\": \"value2\"\n",
        "    }"
      ],
      "metadata": {
        "id": "8eE35QccA_X-"
      }
    },
    {
      "cell_type": "code",
      "source": [
        "#write here and run the cell\n",
        "import json\n",
        "\n",
        "# Define the sample JSON object (Python dictionary)\n",
        "sampleJson = {\"id\": 1, \"name\": \"value2\", \"age\": 29}\n",
        "\n",
        "# Convert the dictionary to a JSON string with sorted keys\n",
        "sorted_json_string = json.dumps(sampleJson, sort_keys=True, indent=4)\n",
        "\n",
        "# Write the sorted JSON string to a file\n",
        "with open('sorted_data.json', 'w') as file:\n",
        "    file.write(sorted_json_string)\n",
        "\n",
        "print(\"Sorted JSON has been written to 'sorted_data.json'\")\n"
      ],
      "metadata": {
        "id": "jLG5tk_X_j5O",
        "colab": {
          "base_uri": "https://localhost:8080/"
        },
        "outputId": "91f66015-b510-46d4-b160-f87d67dd0ca5"
      },
      "execution_count": 94,
      "outputs": [
        {
          "output_type": "stream",
          "name": "stdout",
          "text": [
            "Sorted JSON has been written to 'sorted_data.json'\n"
          ]
        }
      ]
    },
    {
      "cell_type": "code",
      "source": [],
      "metadata": {
        "id": "MhrpX1vVvFRs"
      },
      "execution_count": null,
      "outputs": []
    }
  ]
}